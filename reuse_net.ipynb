{
  "nbformat": 4,
  "nbformat_minor": 0,
  "metadata": {
    "colab": {
      "name": "reuse_net.ipynb",
      "provenance": [],
      "authorship_tag": "ABX9TyNWZo1rqf1W6hXZFTeIL/oN",
      "include_colab_link": true
    },
    "kernelspec": {
      "name": "python3",
      "display_name": "Python 3"
    },
    "accelerator": "GPU"
  },
  "cells": [
    {
      "cell_type": "markdown",
      "metadata": {
        "id": "view-in-github",
        "colab_type": "text"
      },
      "source": [
        "<a href=\"https://colab.research.google.com/github/SuYouge/colab/blob/master/reuse_net.ipynb\" target=\"_parent\"><img src=\"https://colab.research.google.com/assets/colab-badge.svg\" alt=\"Open In Colab\"/></a>"
      ]
    },
    {
      "cell_type": "markdown",
      "metadata": {
        "id": "xYZTd-CP2dH5",
        "colab_type": "text"
      },
      "source": [
        "# 加载模型"
      ]
    },
    {
      "cell_type": "markdown",
      "metadata": {
        "id": "fxQS9rh42rYF",
        "colab_type": "text"
      },
      "source": [
        "## 导入tf2.0"
      ]
    },
    {
      "cell_type": "code",
      "metadata": {
        "id": "stbOVrDl2ZCA",
        "colab_type": "code",
        "colab": {}
      },
      "source": [
        "%tensorflow_version 2.x\n",
        "import tensorflow as tf\n",
        "device_name = tf.test.gpu_device_name()\n",
        "if device_name != '/device:GPU:0':\n",
        "  raise SystemError('GPU device not found')\n",
        "print('Found GPU at: {}'.format(device_name))\n",
        "tf.device('/device:GPU:0')"
      ],
      "execution_count": 0,
      "outputs": []
    },
    {
      "cell_type": "markdown",
      "metadata": {
        "id": "Kd3ADwzO2tzj",
        "colab_type": "text"
      },
      "source": [
        "## 挂载云盘\n",
        "\n",
        "输出栏会显示一个`Go to this URL in a browser:xxx`\n",
        "点击链接跳转后按照指示复制验证码到输出栏的输入框中即可"
      ]
    },
    {
      "cell_type": "code",
      "metadata": {
        "id": "9shJH-wC2vdZ",
        "colab_type": "code",
        "colab": {}
      },
      "source": [
        "import os\n",
        "from google.colab import drive\n",
        "drive.mount('/content/drive')\n",
        "path = \"/content/drive/My Drive/mnist_test\"\n",
        "os.chdir(path)\n",
        "os.listdir(path)"
      ],
      "execution_count": 0,
      "outputs": []
    },
    {
      "cell_type": "markdown",
      "metadata": {
        "id": "5yuuwag63KTK",
        "colab_type": "text"
      },
      "source": [
        "## 加载模型"
      ]
    },
    {
      "cell_type": "code",
      "metadata": {
        "id": "lQGut8Aj3L-8",
        "colab_type": "code",
        "colab": {}
      },
      "source": [
        "# 重新创建完全相同的模型，包括其权重和优化程序\n",
        "model = tf.keras.models.load_model('my_model.h5')\n",
        "# 显示网络结构\n",
        "model.summary()"
      ],
      "execution_count": 0,
      "outputs": []
    },
    {
      "cell_type": "markdown",
      "metadata": {
        "id": "s2DorSYi30OV",
        "colab_type": "text"
      },
      "source": [
        "## 进一步训练\n",
        "\n",
        "没有改变以下选项则不需要重新`compile`：损失函数、优化器 / 学习率、度量"
      ]
    },
    {
      "cell_type": "code",
      "metadata": {
        "id": "t1exMyDV33DB",
        "colab_type": "code",
        "colab": {}
      },
      "source": [
        "# 重新导入数据集\n",
        "\n",
        "def preprocess(x, y):\n",
        "    x = tf.cast(x, tf.float32) / 255.0 # 将MNIST数据映射到[0，1]\n",
        "    x = tf.expand_dims(x, axis=-1) # 由于卷积层维度为[None, 28, 28, 1]，故在axis=3扩展一维\n",
        "    # y = tf.one_hot(y, depth=10)\n",
        "    return x, y\n",
        "def load_dataset(mnist):\n",
        "\n",
        "  (x_train, y_train), (x_test, y_test) = mnist.load_data()\n",
        "  print(x_train.shape, y_train.shape, x_train.min(), x_train.max())\n",
        "\n",
        "  train_db = tf.data.Dataset.from_tensor_slices((x_train, y_train))\n",
        "  train_db = train_db.shuffle(1000).map(preprocess).batch(100)\n",
        "\n",
        "  test_db = tf.data.Dataset.from_tensor_slices((x_test, y_test))\n",
        "  test_db = test_db.map(preprocess).batch(100)\n",
        "\n",
        "  return train_db, test_db\n",
        "mnist = tf.keras.datasets.mnist\n",
        "(x_train,y_train),(x_test,y_test) = mnist.load_data()\n",
        "x_train, y_train = preprocess(x_train,y_train)\n",
        "x_test, y_test = preprocess(x_test,y_test)\n",
        "train_db, test_db= load_dataset(mnist)\n",
        "\n",
        "# 重新配置训练流程\n",
        "\n",
        "filepath = 'my_model.h5' # 保存模型地址\n",
        "saved_model = tf.keras.callbacks.ModelCheckpoint(filepath, verbose = 2) # 回调保存模型功能\n",
        "tensorboard = tf.keras.callbacks.TensorBoard(log_dir = 'log') # 回调可视化数据功能\n",
        "\n",
        "# 开始训练\n",
        "\n",
        "# model.fit(x_train, y_train, epochs=5)\n",
        "history = model.fit(train_db, \n",
        "            epochs = 25, \n",
        "            validation_data = test_db, \n",
        "            validation_freq = 1,\n",
        "            callbacks = [saved_model, tensorboard],\n",
        "            verbose = 2)\n",
        "print(\"\\n\")\n",
        "\n",
        "# 显示训练记录\n",
        "history.history"
      ],
      "execution_count": 0,
      "outputs": []
    }
  ]
}