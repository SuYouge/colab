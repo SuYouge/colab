{
  "nbformat": 4,
  "nbformat_minor": 0,
  "metadata": {
    "colab": {
      "name": "yolov3_detector.ipynb",
      "provenance": [],
      "collapsed_sections": [],
      "authorship_tag": "ABX9TyNtRDDMV6VOwQ9ydou8/uHV",
      "include_colab_link": true
    },
    "kernelspec": {
      "name": "python3",
      "display_name": "Python 3"
    },
    "accelerator": "GPU"
  },
  "cells": [
    {
      "cell_type": "markdown",
      "metadata": {
        "id": "view-in-github",
        "colab_type": "text"
      },
      "source": [
        "<a href=\"https://colab.research.google.com/github/SuYouge/colab/blob/master/yolov3_detector.ipynb\" target=\"_parent\"><img src=\"https://colab.research.google.com/assets/colab-badge.svg\" alt=\"Open In Colab\"/></a>"
      ]
    },
    {
      "cell_type": "markdown",
      "metadata": {
        "id": "nhHWAariRANL",
        "colab_type": "text"
      },
      "source": [
        "# 单步inference"
      ]
    },
    {
      "cell_type": "markdown",
      "metadata": {
        "id": "bkoVehLnRKGc",
        "colab_type": "text"
      },
      "source": [
        "## 初始化环境"
      ]
    },
    {
      "cell_type": "code",
      "metadata": {
        "id": "GJe-O8MWC0oc",
        "colab_type": "code",
        "colab": {}
      },
      "source": [
        "import os\n",
        "from google.colab import drive\n",
        "drive.mount('/content/drive')\n",
        "\n",
        "path = \"/content/drive/My Drive/yolov3_test\"\n",
        "os.chdir(path)\n",
        "os.listdir(path)\n",
        "\n",
        "%cd yolov3-tf2/\n",
        "\n",
        "# !pip install opencv-python==4.1.1.26 lxml tqdm -e .\n",
        "\n",
        "%tensorflow_version 2.x\n",
        "import tensorflow as tf\n",
        "tf.__version__"
      ],
      "execution_count": 0,
      "outputs": []
    },
    {
      "cell_type": "markdown",
      "metadata": {
        "id": "TXtEvFq0V1AA",
        "colab_type": "text"
      },
      "source": [
        "## 转换权重文件"
      ]
    },
    {
      "cell_type": "code",
      "metadata": {
        "id": "6Sp7EgxVV1O7",
        "colab_type": "code",
        "colab": {}
      },
      "source": [
        "!python convert.py"
      ],
      "execution_count": 0,
      "outputs": []
    },
    {
      "cell_type": "markdown",
      "metadata": {
        "id": "8fOyDTKwRPwU",
        "colab_type": "text"
      },
      "source": [
        "## 初始化网络"
      ]
    },
    {
      "cell_type": "code",
      "metadata": {
        "id": "8_X4i0dRRRgO",
        "colab_type": "code",
        "colab": {}
      },
      "source": [
        "import sys\n",
        "from absl import app, logging, flags\n",
        "from absl.flags import FLAGS\n",
        "import time\n",
        "import cv2\n",
        "import numpy as np\n",
        "import tensorflow as tf\n",
        "from yolov3_tf2.models import (\n",
        "    YoloV3, YoloV3Tiny\n",
        ")\n",
        "from yolov3_tf2.dataset import transform_images, load_tfrecord_dataset\n",
        "from yolov3_tf2.utils import draw_outputs\n",
        "\n",
        "# flags.DEFINE_stirng 可以设定默认参数候选\n",
        "flags.DEFINE_string('classes', './data/coco.names', 'path to classes file')\n",
        "flags.DEFINE_string('weights', './checkpoints/yolov3.tf',\n",
        "                    'path to weights file')\n",
        "flags.DEFINE_boolean('tiny', False, 'yolov3 or yolov3-tiny')\n",
        "flags.DEFINE_integer('size', 416, 'resize images to')\n",
        "flags.DEFINE_string('image', './data/girl.png', 'path to input image')\n",
        "flags.DEFINE_string('tfrecord', None, 'tfrecord instead of image')\n",
        "flags.DEFINE_string('output', './output.jpg', 'path to output image')\n",
        "flags.DEFINE_integer('num_classes', 80, 'number of classes in the model')\n",
        "\n",
        "# 初始化程序\n",
        "app._run_init(['yolov3'], app.parse_flags_with_usage)\n",
        "\n",
        "# 指定设备\n",
        "physical_devices = tf.config.experimental.list_physical_devices('GPU')\n",
        "tf.config.experimental.set_memory_growth(physical_devices[0], True)\n",
        "physical_devices"
      ],
      "execution_count": 0,
      "outputs": []
    },
    {
      "cell_type": "markdown",
      "metadata": {
        "id": "ViXxSwLIRS8z",
        "colab_type": "text"
      },
      "source": [
        "## 运行inference"
      ]
    },
    {
      "cell_type": "code",
      "metadata": {
        "id": "_yP8Xl6aRXty",
        "colab_type": "code",
        "colab": {}
      },
      "source": [
        "FLAGS.image = 'data/meme.jpg'\n",
        "\n",
        "logging.info(\"%s\\n\"%FLAGS.classes)\n",
        "\n",
        "logging.info(\"%s\\n\"%FLAGS.weights)\n",
        "\n",
        "if FLAGS.tiny:\n",
        "    # 声明网络\n",
        "    yolo = YoloV3Tiny(classes=FLAGS.num_classes)\n",
        "else:\n",
        "    yolo = YoloV3(classes=FLAGS.num_classes)\n",
        "\n",
        "# 加载权重   \n",
        "yolo.load_weights(FLAGS.weights).expect_partial()\n",
        "logging.info('weights loaded')\n",
        "\n",
        "# 加载分类标签\n",
        "class_names = [c.strip() for c in open(FLAGS.classes).readlines()]\n",
        "logging.info('classes loaded')\n",
        "\n",
        "# 读取图片\n",
        "img_raw = tf.image.decode_image(\n",
        "    open(FLAGS.image, 'rb').read(), channels=3)\n",
        "\n",
        "# 扩展图片维度，以便向网络输入\n",
        "img = tf.expand_dims(img_raw, 0)\n",
        "\n",
        "# resize以及归一化\n",
        "img = transform_images(img, FLAGS.size)\n",
        "\n",
        "t1 = time.time()\n",
        "# 输入网络，得到输出\n",
        "boxes, scores, classes, nums = yolo(img)\n",
        "t2 = time.time()\n",
        "logging.info('time: {}'.format(t2 - t1))\n",
        "\n",
        "logging.info('detections:')\n",
        "\n",
        "# 输出识别结果\n",
        "for i in range(nums[0]):\n",
        "    logging.info('\\t{}, {}, {}'.format(class_names[int(classes[0][i])],\n",
        "                                        np.array(scores[0][i]),\n",
        "                                        np.array(boxes[0][i])))\n",
        "\n",
        "# 转换图片通道顺序并绘制box\n",
        "img = cv2.cvtColor(img_raw.numpy(), cv2.COLOR_RGB2BGR)\n",
        "img = draw_outputs(img, (boxes, scores, classes, nums), class_names)\n",
        "\n",
        "# 显示图片\n",
        "from IPython.display import Image, display\n",
        "display(Image(data=bytes(cv2.imencode('.jpg', img)[1]), width=800))"
      ],
      "execution_count": 0,
      "outputs": []
    }
  ]
}