{
  "nbformat": 4,
  "nbformat_minor": 0,
  "metadata": {
    "colab": {
      "name": "mnist_tf2_test.ipynb",
      "provenance": [],
      "collapsed_sections": [],
      "authorship_tag": "ABX9TyMTPL9DrKjw/REXddIby/RG",
      "include_colab_link": true
    },
    "kernelspec": {
      "name": "python3",
      "display_name": "Python 3"
    },
    "accelerator": "GPU"
  },
  "cells": [
    {
      "cell_type": "markdown",
      "metadata": {
        "id": "view-in-github",
        "colab_type": "text"
      },
      "source": [
        "<a href=\"https://colab.research.google.com/github/SuYouge/colab/blob/master/mnist_tf2_test.ipynb\" target=\"_parent\"><img src=\"https://colab.research.google.com/assets/colab-badge.svg\" alt=\"Open In Colab\"/></a>"
      ]
    },
    {
      "cell_type": "markdown",
      "metadata": {
        "id": "ov6guwpEButV",
        "colab_type": "text"
      },
      "source": [
        "# 1. 手写数字识别tf2.0测试\n",
        "主要包含以下内容：\n",
        "1. 导入tf2.0\n",
        "2. 启用GPU\n",
        "3. 导入opencv-python以及colab专用cv2_imshow\n",
        "4. 神经网络例程\n",
        "5. 结果图像输出\n"
      ]
    },
    {
      "cell_type": "markdown",
      "metadata": {
        "id": "2BTsYGVHCgPI",
        "colab_type": "text"
      },
      "source": [
        "## 1.1 导入tf2.0以及启用GPU"
      ]
    },
    {
      "cell_type": "code",
      "metadata": {
        "id": "2SSP1bpIf6B-",
        "colab_type": "code",
        "colab": {}
      },
      "source": [
        "%tensorflow_version 2.x\n",
        "import tensorflow as tf\n",
        "device_name = tf.test.gpu_device_name()\n",
        "if device_name != '/device:GPU:0':\n",
        "  raise SystemError('GPU device not found')\n",
        "print('Found GPU at: {}'.format(device_name))\n",
        "tf.device('/device:GPU:0')"
      ],
      "execution_count": 0,
      "outputs": []
    },
    {
      "cell_type": "markdown",
      "metadata": {
        "id": "SxE1VyZLCsbR",
        "colab_type": "text"
      },
      "source": [
        "## 1.2 导入Opencv\n",
        "也许会报错ERROR，似乎没有大影响，暂时没有用到opencv"
      ]
    },
    {
      "cell_type": "code",
      "metadata": {
        "id": "ypezJna5rN4i",
        "colab_type": "code",
        "colab": {}
      },
      "source": [
        "# 导入opencv\n",
        "# !apt-get -qq install -y libsm6 libxext6 && pip3 install -q -U opencv-python\n",
        "# import cv2\n",
        "# print(cv2.__version__)"
      ],
      "execution_count": 0,
      "outputs": []
    },
    {
      "cell_type": "markdown",
      "metadata": {
        "id": "3soVdKmjyHJ0",
        "colab_type": "text"
      },
      "source": [
        "## 1.3 挂载谷歌云盘"
      ]
    },
    {
      "cell_type": "code",
      "metadata": {
        "id": "a2C4Dxx_yKTL",
        "colab_type": "code",
        "colab": {}
      },
      "source": [
        "import os\n",
        "from google.colab import drive\n",
        "drive.mount('/content/drive')"
      ],
      "execution_count": 0,
      "outputs": []
    },
    {
      "cell_type": "code",
      "metadata": {
        "id": "kmdqr-T2ydlb",
        "colab_type": "code",
        "colab": {}
      },
      "source": [
        "path = \"/content/drive/My Drive/mnist_test\"\n",
        "os.chdir(path)\n",
        "os.listdir(path)"
      ],
      "execution_count": 0,
      "outputs": []
    },
    {
      "cell_type": "markdown",
      "metadata": {
        "id": "itxKwX4sC8hY",
        "colab_type": "text"
      },
      "source": [
        "## 1.4 mnist手写数字识别例程"
      ]
    },
    {
      "cell_type": "markdown",
      "metadata": {
        "id": "pPxfI4POPFNQ",
        "colab_type": "text"
      },
      "source": [
        "### 加载并预处理数据"
      ]
    },
    {
      "cell_type": "code",
      "metadata": {
        "id": "7fmqRhWqgOWm",
        "colab_type": "code",
        "colab": {}
      },
      "source": [
        "# 导入数据集\n",
        "\n",
        "def preprocess(x, y):\n",
        "    x = tf.cast(x, tf.float32) / 255.0 # 将MNIST数据映射到[0，1]\n",
        "    x = tf.expand_dims(x, axis=-1) # 由于卷积层维度为[None, 28, 28, 1]，故在axis=3扩展一维\n",
        "    # y = tf.one_hot(y, depth=10)\n",
        "    return x, y\n",
        "def load_dataset(mnist):\n",
        "\n",
        "  (x_train, y_train), (x_test, y_test) = mnist.load_data()\n",
        "  print(x_train.shape, y_train.shape, x_train.min(), x_train.max())\n",
        "\n",
        "  train_db = tf.data.Dataset.from_tensor_slices((x_train, y_train))\n",
        "  train_db = train_db.shuffle(1000).map(preprocess).batch(100)\n",
        "\n",
        "  test_db = tf.data.Dataset.from_tensor_slices((x_test, y_test))\n",
        "  test_db = test_db.map(preprocess).batch(100)\n",
        "\n",
        "  return train_db, test_db\n",
        "mnist = tf.keras.datasets.mnist\n",
        "(x_train,y_train),(x_test,y_test) = mnist.load_data()\n",
        "x_train, y_train = preprocess(x_train,y_train)\n",
        "x_test, y_test = preprocess(x_test,y_test)\n",
        "train_db, test_db= load_dataset(mnist)"
      ],
      "execution_count": 0,
      "outputs": []
    },
    {
      "cell_type": "markdown",
      "metadata": {
        "id": "beu9jF6kqf1u",
        "colab_type": "text"
      },
      "source": [
        "### 配置Tensorboard\n"
      ]
    },
    {
      "cell_type": "code",
      "metadata": {
        "id": "Nl6IGQ91qkrI",
        "colab_type": "code",
        "colab": {}
      },
      "source": [
        "%load_ext tensorboard"
      ],
      "execution_count": 0,
      "outputs": []
    },
    {
      "cell_type": "markdown",
      "metadata": {
        "id": "4bD7YrWMivHs",
        "colab_type": "text"
      },
      "source": [
        "### 构造网络\n",
        "**Sequential模型**\n",
        "1. 创建Sequential模型\n",
        "2. 添加所需要的神经层\n",
        "3. 使用.compile方法确定模型训练结构\n",
        "4. 使用.fit方法，使模型与训练\n",
        "\n",
        "**tf.keras.layers**\n",
        "\n",
        "[layers的类型](https://tensorflow.google.cn/api_docs/python/tf/keras/layers)\n",
        "\n",
        "* Flatten : Flattens the input. Does not affect the batch size.\n",
        "\n",
        "* Dense : Just your regular densely-connected NN layer.\n",
        "\n",
        "* Dropout : Applies Dropout to the input."
      ]
    },
    {
      "cell_type": "code",
      "metadata": {
        "id": "6pqTeqJpgUOc",
        "colab_type": "code",
        "colab": {}
      },
      "source": [
        "# 1. 构造网络\n",
        "model = tf.keras.models.Sequential([\n",
        "  tf.keras.layers.Conv2D(6,kernel_size=3,strides=1),\n",
        "  tf.keras.layers.MaxPooling2D(pool_size=2,strides=2),\n",
        "  tf.keras.layers.ReLU(), #(可以不要这一层)激活函数类并不是主要的网络计算层，不计入网络层数\n",
        "  tf.keras.layers.Conv2D(16,kernel_size=3,strides=1),\n",
        "  tf.keras.layers.MaxPooling2D(pool_size=2,strides=2),\n",
        "  tf.keras.layers.ReLU(),\n",
        "  tf.keras.layers.Flatten(),\n",
        "  tf.keras.layers.Dense(120,activation='relu'),\n",
        "  tf.keras.layers.Dense(84,activation='relu'),\n",
        "  tf.keras.layers.Dense(10) #输出层，没有激活函数（激活函数为None）\n",
        "])\n",
        "# 或者用这种格式\n",
        "# model = tf.keras.Sequential()\n",
        "# model.add(tf.keras.layers.Flatten(input_shape=(28, 28)))\n",
        "# model.add(tf.keras.layers.Dense(128, activation='relu'))\n",
        "# model.add(tf.keras.layers.Dropout(0.2))\n",
        "# model.add(tf.keras.layers.Dense(10))"
      ],
      "execution_count": 0,
      "outputs": []
    },
    {
      "cell_type": "markdown",
      "metadata": {
        "id": "U5UCLDqrGhGR",
        "colab_type": "text"
      },
      "source": [
        "### 定义损失函数"
      ]
    },
    {
      "cell_type": "code",
      "metadata": {
        "id": "7xYFOKw1gukQ",
        "colab_type": "code",
        "colab": {}
      },
      "source": [
        "# 2. 定义损失函数\n",
        "loss_fn = tf.keras.losses.SparseCategoricalCrossentropy(from_logits=True)\n"
      ],
      "execution_count": 0,
      "outputs": []
    },
    {
      "cell_type": "markdown",
      "metadata": {
        "id": "RFh7Ib6xGkZ1",
        "colab_type": "text"
      },
      "source": [
        "### 配置训练流程以及回调功能"
      ]
    },
    {
      "cell_type": "code",
      "metadata": {
        "id": "nNsg_bGhg6eE",
        "colab_type": "code",
        "colab": {}
      },
      "source": [
        "# 为网络模型定义compile参数，配置模型的学习流程\n",
        "model.compile(optimizer='adam',\n",
        "              loss=loss_fn,\n",
        "              metrics=['accuracy'])"
      ],
      "execution_count": 0,
      "outputs": []
    },
    {
      "cell_type": "code",
      "metadata": {
        "id": "x54Nwz8fNweL",
        "colab_type": "code",
        "colab": {}
      },
      "source": [
        "# 显示网络结构\n",
        "model.build(input_shape=[None, 28, 28, 1])\n",
        "model.summary()\n",
        "filepath = 'my_model.h5' # 保存模型地址\n",
        "saved_model = tf.keras.callbacks.ModelCheckpoint(filepath, verbose = 2) # 回调保存模型功能\n",
        "tensorboard = tf.keras.callbacks.TensorBoard(log_dir = 'log') # 回调可视化数据功能"
      ],
      "execution_count": 0,
      "outputs": []
    },
    {
      "cell_type": "markdown",
      "metadata": {
        "id": "3ON61475Gof6",
        "colab_type": "text"
      },
      "source": [
        "### 开始训练"
      ]
    },
    {
      "cell_type": "code",
      "metadata": {
        "id": "-QHfbJT7g9QP",
        "colab_type": "code",
        "colab": {}
      },
      "source": [
        "# 开始训练\n",
        "# model.fit(x_train, y_train, epochs=5)\n",
        "history = model.fit(train_db, \n",
        "            epochs = 20, \n",
        "            validation_data = test_db, \n",
        "            validation_freq = 1,\n",
        "            callbacks = [saved_model, tensorboard],\n",
        "            verbose = 2)\n",
        "print(\"\\n\")\n",
        "# 显示训练记录\n",
        "history.history"
      ],
      "execution_count": 0,
      "outputs": []
    },
    {
      "cell_type": "markdown",
      "metadata": {
        "id": "l8-RDK7WGsbh",
        "colab_type": "text"
      },
      "source": [
        "### 测试集评估训练结果\n",
        "\n",
        "\n"
      ]
    },
    {
      "cell_type": "code",
      "metadata": {
        "id": "IRi_9BQQhAFS",
        "colab_type": "code",
        "colab": {}
      },
      "source": [
        "# 对测试集进行验证\n",
        "model.evaluate(test_db, verbose=2)"
      ],
      "execution_count": 0,
      "outputs": []
    },
    {
      "cell_type": "markdown",
      "metadata": {
        "id": "OmlSBWp2vTDc",
        "colab_type": "text"
      },
      "source": [
        "### 查看TensorBoard输出"
      ]
    },
    {
      "cell_type": "code",
      "metadata": {
        "id": "LN6SUvbYvW_y",
        "colab_type": "code",
        "colab": {}
      },
      "source": [
        "# 打开TensorBoard查看训练记录\n",
        "%tensorboard --logdir log"
      ],
      "execution_count": 0,
      "outputs": []
    },
    {
      "cell_type": "markdown",
      "metadata": {
        "id": "rTmorIuBGw0B",
        "colab_type": "text"
      },
      "source": [
        "### softmax结果输出"
      ]
    },
    {
      "cell_type": "code",
      "metadata": {
        "id": "phDhc4-DhKEr",
        "colab_type": "code",
        "colab": {}
      },
      "source": [
        "# 利用softmax对测试结果进行输出\n",
        "probability_model = tf.keras.Sequential([\n",
        "  model,\n",
        "  tf.keras.layers.Softmax()\n",
        "])"
      ],
      "execution_count": 0,
      "outputs": []
    },
    {
      "cell_type": "markdown",
      "metadata": {
        "id": "lShPpuJsG2-T",
        "colab_type": "text"
      },
      "source": [
        "### 查看训练效果"
      ]
    },
    {
      "cell_type": "code",
      "metadata": {
        "id": "QrLCf0NVhPzv",
        "colab_type": "code",
        "colab": {}
      },
      "source": [
        "# 查看测试集上的效果\n",
        "import numpy as np\n",
        "from google.colab.patches import cv2_imshow\n",
        "import matplotlib.pyplot as plt\n",
        "# 显示测试集前n张的预测结果\n",
        "first_n = 3\n",
        "# b = probability_model(x_test[:first_n]).numpy()\n",
        "# print(b.shape[0])\n",
        "# 输出每行最大值的索引\n",
        "# a = np.argmax(b, axis=1)  \n",
        "\n",
        "# print(x_test[0].shape)\n",
        "for i in range(first_n):\n",
        "  predictions = model(x_test[i : i+1]).numpy()\n",
        "  # print(\"预测值：\\n\",predictions)\n",
        "  sfm = tf.nn.softmax(predictions).numpy()\n",
        "  print(\"softmax：\\n\",sfm)\n",
        "  # print(\"预测结果为：\\n\",a[i])\n",
        "  print(\"\\033[1;31;47m预测结果为：%s\\033[0m\"%np.argmax(sfm)) # softmax输出结果最大的索引为估计值\n",
        "  loss = loss_fn(y_test[i : i+1], predictions).numpy()\n",
        "  print(\"loss：\\n\",loss)\n",
        "  x_show = tf.squeeze(x_test[i]) # 因为在开头扩展了维度，所以要缩减维度来显示图像\n",
        "  plt.imshow(x_show, cmap=plt.cm.binary)\n",
        "  plt.show()  "
      ],
      "execution_count": 0,
      "outputs": []
    }
  ]
}